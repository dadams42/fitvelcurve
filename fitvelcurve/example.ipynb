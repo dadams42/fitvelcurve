{
 "cells": [
  {
   "cell_type": "code",
   "execution_count": 1,
   "metadata": {},
   "outputs": [],
   "source": [
    "import gal_class\n",
    "import numpy as np"
   ]
  },
  {
   "cell_type": "code",
   "execution_count": 2,
   "metadata": {},
   "outputs": [],
   "source": [
    "#Example\n",
    "rbin = np.arange(0,40,1)\n",
    "c = 5.\n",
    "m = 1.\n",
    "gal = gal_class.Galaxy(m, c, data_vel=1, data_err=1, data_r=rbin)\n",
    "mass_nfw = gal.mass_nfw()\n"
   ]
  },
  {
   "cell_type": "code",
   "execution_count": 3,
   "metadata": {},
   "outputs": [
    {
     "data": {
      "text/plain": [
       "Text(0, 0.5, '$M_{NFW}$')"
      ]
     },
     "execution_count": 3,
     "metadata": {},
     "output_type": "execute_result"
    },
    {
     "data": {
      "image/png": "[encoded data removed]",
      "text/plain": [
       "<Figure size 640x480 with 1 Axes>"
      ]
     },
     "metadata": {},
     "output_type": "display_data"
    }
   ],
   "source": [
    "import matplotlib.pyplot as plt\n",
    "plt.plot(rbin, mass_nfw)\n",
    "plt.xlabel('r')\n",
    "plt.ylabel('$M_{NFW}$')"
   ]
  },
  {
   "cell_type": "code",
   "execution_count": 4,
   "metadata": {},
   "outputs": [],
   "source": [
    "import numpy as np\n",
    "from numpy import pi, log\n",
    "\n",
    "\n",
    "#some constants\n",
    "h = 0.678 #Gaia 2016\n",
    "\n",
    "G = 6.67430e-11\n",
    "\n",
    "Msun = 1.98847e30\n",
    "kpc = 3.0856775814913673e19\n",
    "\n",
    "fac = 102\n",
    "\n",
    "rhocrit = 3*(100*h/(kpc))**2/(8*np.pi*G) * kpc**3 / Msun\n",
    "\n",
    "def delc(c):\n",
    "    return (fac/3)*c**3/(log(1+c)-c/(1+c))\n",
    "    \n",
    "\n",
    "def mass_nfw(r, mvir, cvir):\n",
    "    \n",
    "    rv = (mvir/((4/3) * pi * fac * rhocrit))**(1/3)\n",
    "    \n",
    "    rs = rv / cvir\n",
    "    \n",
    "    rhos = rhocrit*delc(cvir)\n",
    "    \n",
    "    return 4 * pi *  rhos * rs**3 * (log((r + rs) / rs) + rs/(r + rs) - 1) \n",
    "\n",
    "def velocity(x, mass, c):\n",
    "    return np.sqrt(G * Msun * mass_nfw(x, mass, c) / x/kpc) / 1e3\n",
    "    \n",
    "data_r = np.linspace(1e-1, 10, 20)\n",
    "vcen = velocity(data_r, 5e10, 15)\n",
    "verr = (velocity(data_r, 5e10*1.1, 15*1.1) - velocity(data_r, 5e10*0.9, 15*0.9))/2"
   ]
  },
  {
   "cell_type": "code",
   "execution_count": 5,
   "metadata": {},
   "outputs": [
    {
     "data": {
      "text/plain": [
       "array([1.07665904, 2.45989833, 3.07902523, 3.44951144, 3.68860436,\n",
       "       3.84739425, 3.95331819, 4.02281252, 4.06641663, 4.09121248,\n",
       "       4.10212524, 4.10267187, 4.09541698, 4.08226289, 4.06464062,\n",
       "       4.04363934, 4.02009621, 3.99465997, 3.9678368 , 3.94002385])"
      ]
     },
     "execution_count": 5,
     "metadata": {},
     "output_type": "execute_result"
    }
   ],
   "source": [
    "verr"
   ]
  },
  {
   "cell_type": "code",
   "execution_count": 6,
   "metadata": {},
   "outputs": [
    {
     "data": {
      "text/plain": [
       "array([11.69705578, 27.69937333, 35.81234559, 41.32202472, 45.39502076,\n",
       "       48.53983303, 51.03422266, 53.04926312, 54.69855028, 56.06152499,\n",
       "       57.19589563, 58.14482651, 58.94136287, 59.61128872, 60.17504459,\n",
       "       60.64905537, 61.04667398, 61.37886703, 61.65472256, 61.88183228])"
      ]
     },
     "execution_count": 6,
     "metadata": {},
     "output_type": "execute_result"
    }
   ],
   "source": [
    "vcen"
   ]
  },
  {
   "cell_type": "code",
   "execution_count": 7,
   "metadata": {},
   "outputs": [
    {
     "name": "stderr",
     "output_type": "stream",
     "text": [
      "iter: 3 | batch: 0 | bound: 0 | nc: 1 | ncall: 3 | eff(%):  0.596 | loglstar:   -inf < -1878.685 <    inf | logz: -1883.993 +/-  0.103 | dlogz: 120.532 >  0.010                                      "
     ]
    },
    {
     "name": "stderr",
     "output_type": "stream",
     "text": [
      "iter: 16002 | batch: 6 | bound: 5 | nc: 1 | ncall: 44581 | eff(%): 35.709 | loglstar: -1760.632 < -1754.825 < -1756.118 | logz: -1765.162 +/-  0.084 | stop:  0.896                                   "
     ]
    }
   ],
   "source": [
    "test_obj = gal_class.Galaxy(5e10, 15, vcen, verr, data_r)\n",
    "\n",
    "test_sampler = test_obj.run_sampler()"
   ]
  },
  {
   "cell_type": "code",
   "execution_count": null,
   "metadata": {},
   "outputs": [],
   "source": []
  }
 ],
 "metadata": {
  "kernelspec": {
   "display_name": "codeastro",
   "language": "python",
   "name": "python3"
  },
  "language_info": {
   "codemirror_mode": {
    "name": "ipython",
    "version": 3
   },
   "file_extension": ".py",
   "mimetype": "text/x-python",
   "name": "python",
   "nbconvert_exporter": "python",
   "pygments_lexer": "ipython3",
   "version": "3.10.14"
  }
 },
 "nbformat": 4,
 "nbformat_minor": 2
}
