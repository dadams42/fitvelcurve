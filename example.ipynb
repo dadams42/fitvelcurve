{
 "cells": [
  {
   "cell_type": "code",
   "execution_count": 23,
   "metadata": {},
   "outputs": [],
   "source": [
    "import numpy as np\n",
    "from numpy import pi, log\n",
    "from astropy.constants import G, M_sun, kpc\n",
    "from astropy import units as u\n",
    "from astropy.cosmology import Planck15 as cosmo"
   ]
  },
  {
   "cell_type": "code",
   "execution_count": 32,
   "metadata": {},
   "outputs": [
    {
     "data": {
      "text/plain": [
       "127.34959203408036"
      ]
     },
     "execution_count": 32,
     "metadata": {},
     "output_type": "execute_result"
    }
   ],
   "source": [
    "(3*(100*cosmo.h/(kpc*u.kpc))**2/(8*np.pi*G) * (kpc*u.kpc)**3 / (Msun*u.Msun)).value"
   ]
  },
  {
   "cell_type": "code",
   "execution_count": 33,
   "metadata": {},
   "outputs": [],
   "source": [
    "class Galaxy():\n",
    "    \"\"\"\n",
    "    Derive a dark matter density profile from a galaxy rotation curve\n",
    "\n",
    "    Args:\n",
    "        mvir (float): galaxy virial mass (Msun)\n",
    "        cvir (float): dark matter concentration parameter (Msun)\n",
    "    \"\"\"\n",
    "\n",
    "    def __init__(self, mvir, cvir, data_vel, data_err, data_r):\n",
    "\n",
    "        #Define constants\n",
    "        self.fac = 102\n",
    "\n",
    "        self.rhocrit = (3*(100*cosmo.h/(kpc*u.kpc))**2/(8*np.pi*G) * (kpc*u.kpc)**3 / (Msun*u.Msun)).value\n",
    "\n",
    "        # Data arrays\n",
    "        self.data_vel = data_vel # Velocity\n",
    "        self.data_err = data_err # Velocity errors\n",
    "        self.data_r = data_r # Radii\n",
    "\n",
    "        self.mvir = mvir\n",
    "        self.cvir = cvir\n",
    "\n",
    "    def delc(self):\n",
    "        return (self.fac/3)*self.cvir**3/(np.log(1+self.cvir)-self.cvir/(1+self.cvir))\n",
    "\n",
    "    def rho_nfw(self):\n",
    "        #NFW density (virial mass in Msun, concentration parameter)\n",
    "    \n",
    "        rv = (self.mvir/((4/3) * np.pi * self.fac * self.rhocrit))**(1/3) \n",
    "        rs = rv / self.cvir\n",
    "        rhos = self.rhocrit*self.delc()\n",
    "    \n",
    "        return rhos/((self.data_r/rs)*(1.+(self.data_r/rs))**2.)\n",
    "\n",
    "    def mass_nfw(self):\n",
    "        #Enclosed mass (virial mass in Msun, concentration parameter) in Msun\n",
    "    \n",
    "        rv = (self.mvir/((4/3) * np.pi * self.fac * self.rhocrit))**(1/3)\n",
    "        rs = rv / self.cvir\n",
    "        rhos = self.rhocrit*self.delc()\n",
    "    \n",
    "        return 4 * np.pi * rhos * rs**3 * (np.log((self.data_r + rs) / rs) + rs/(self.data_r + rs) - 1) \n",
    "    \n",
    "    def log_like(self, c, log_m_h):\n",
    "        '''\n",
    "        Calculate log-likelihood using the data and NFW parameters (c, log10(M_h))\n",
    "        '''\n",
    "\n",
    "        # Calculate enclosed mass array with NFW profile\n",
    "        enclosed_mass = mass_nfw(self.data_r, 10**log_m_h, c)\n",
    "        # Calculate predicted velocity from v^2 = GM/r\n",
    "        pred_vel = np.sqrt(G * enclosed_mass / self.data_err)\n",
    "\n",
    "        # Calculate log-likelihood\n",
    "        llh = -1/2 * np.sum(((self.data_vel - pred_vel) / self.data_err) ** 2)\n",
    "\n",
    "        return llh"
   ]
  },
  {
   "cell_type": "code",
   "execution_count": 34,
   "metadata": {},
   "outputs": [],
   "source": [
    "#Example\n",
    "rbin = np.arange(0,40,1)\n",
    "c = 5.\n",
    "m = 1.\n",
    "gal = Galaxy(m, c, data_vel=1, data_err=1, data_r=rbin)\n",
    "mass_nfw = gal.mass_nfw()\n"
   ]
  },
  {
   "cell_type": "code",
   "execution_count": 35,
   "metadata": {},
   "outputs": [
    {
     "data": {
      "text/plain": [
       "Text(0, 0.5, '$M_{NFW}$')"
      ]
     },
     "execution_count": 35,
     "metadata": {},
     "output_type": "execute_result"
    },
    {
     "data": {
      "image/png": "[encoded data removed]",
      "text/plain": [
       "<Figure size 640x480 with 1 Axes>"
      ]
     },
     "metadata": {},
     "output_type": "display_data"
    }
   ],
   "source": [
    "import matplotlib.pyplot as plt\n",
    "plt.plot(rbin, mass_nfw)\n",
    "plt.xlabel('r')\n",
    "plt.ylabel('$M_{NFW}$')"
   ]
  },
  {
   "cell_type": "code",
   "execution_count": null,
   "metadata": {},
   "outputs": [],
   "source": []
  }
 ],
 "metadata": {
  "kernelspec": {
   "display_name": "codeastro",
   "language": "python",
   "name": "python3"
  },
  "language_info": {
   "codemirror_mode": {
    "name": "ipython",
    "version": 3
   },
   "file_extension": ".py",
   "mimetype": "text/x-python",
   "name": "python",
   "nbconvert_exporter": "python",
   "pygments_lexer": "ipython3",
   "version": "3.10.14"
  }
 },
 "nbformat": 4,
 "nbformat_minor": 2
}
