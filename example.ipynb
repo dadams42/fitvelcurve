{
 "cells": [
  {
   "cell_type": "code",
   "execution_count": 1,
   "metadata": {},
   "outputs": [],
   "source": [
    "#Enclosed mass (virial mass in Msun, concentration parameter) in Msun\n",
    "def mass_nfw(r, mvir, cvir):\n",
    "    \n",
    "    rv = (mvir/((4/3) * pi * fac * rhocrit))**(1/3)\n",
    "    \n",
    "    rs = rv / cvir\n",
    "    \n",
    "    rhos = rhocrit*delc(cvir)\n",
    "    \n",
    "    return 4 * pi *  rhos * rs**3 * (log((r + rs) / rs) + rs/(r + rs) - 1) "
   ]
  },
  {
   "cell_type": "code",
   "execution_count": 2,
   "metadata": {},
   "outputs": [],
   "source": [
    "import numpy as np\n",
    "from numpy import pi, log"
   ]
  },
  {
   "cell_type": "code",
   "execution_count": 3,
   "metadata": {},
   "outputs": [],
   "source": [
    "class Galaxy():\n",
    "    \"\"\"\n",
    "    Derive a dark matter density profile from a galaxy rotation curve\n",
    "\n",
    "    Args:\n",
    "        mvir (float): galaxy virial mass (Msun)\n",
    "        cvir (float): dark matter concentration parameter (Msun)\n",
    "    \"\"\"\n",
    "\n",
    "    def __init__(self, mvir, cvir, data_vel, data_err, data_r):\n",
    "\n",
    "        #Define constants\n",
    "        self.h = 0.678 #Gaia 2016\n",
    "        self.G = 6.67430e-11\n",
    "        self.Msun = 1.98847e30\n",
    "        self.kpc = 3.0856775814913673e19\n",
    "        self.fac = 102\n",
    "\n",
    "        self.rhocrit = 3*(100*self.h/(self.kpc))**2/(8*np.pi*self.G) * self.kpc**3 / self.Msun\n",
    "\n",
    "        # Data arrays\n",
    "        self.data_vel = data_vel # Velocity\n",
    "        self.data_err = data_err # Velocity errors\n",
    "        self.data_r = data_r # Radii\n",
    "\n",
    "        self.mvir = mvir\n",
    "        self.cvir = cvir\n",
    "\n",
    "    def delc(self):\n",
    "        return (self.fac/3)*self.cvir**3/(np.log(1+self.cvir)-self.cvir/(1+self.cvir))\n",
    "\n",
    "    def rho_nfw(self):\n",
    "        #NFW density (virial mass in Msun, concentration parameter)\n",
    "    \n",
    "        rv = (self.mvir/((4/3) * np.pi * self.fac * self.rhocrit))**(1/3) \n",
    "        rs = rv / self.cvir\n",
    "        rhos = self.rhocrit*self.delc()\n",
    "    \n",
    "        return rhos/((self.data_r/rs)*(1.+(self.data_r/rs))**2.)\n",
    "\n",
    "    def mass_nfw(self):\n",
    "        #Enclosed mass (virial mass in Msun, concentration parameter) in Msun\n",
    "    \n",
    "        rv = (self.mvir/((4/3) * np.pi * self.fac * self.rhocrit))**(1/3)\n",
    "        rs = rv / self.cvir\n",
    "        rhos = self.rhocrit*self.delc()\n",
    "    \n",
    "        return 4 * np.pi * rhos * rs**3 * (np.log((self.data_r + rs) / rs) + rs/(self.data_r + rs) - 1) \n",
    "    \n",
    "    def log_like(self, log_m_h, c):\n",
    "        '''\n",
    "        Calculate log-likelihood using the data and NFW parameters (c, log10(M_h))\n",
    "        '''\n",
    "\n",
    "        # Calculate enclosed mass array with NFW profile\n",
    "        enclosed_mass = mass_nfw(self.data_r, 10**log_m_h, c)\n",
    "        # Calculate predicted velocity from v^2 = GM/r\n",
    "        pred_vel = np.sqrt(self.G * enclosed_mass / self.data_err)\n",
    "\n",
    "        # Calculate log-likelihood\n",
    "        llh = -1/2 * np.sum(((self.data_vel - pred_vel) / self.data_err) ** 2)\n",
    "\n",
    "        return llh\n",
    "\n",
    "    def ptform(self, x):\n",
    "        '''\n",
    "        Prior transform.\n",
    "        '''\n",
    "\n",
    "        # Make sure x is a numpy array\n",
    "        x = np.array(x)\n",
    "\n",
    "        # Transform x[0] (log_m_h) to range 6-13 in log(M/M_sun)\n",
    "        x[0] = (13 - 6) * x[0] + 6\n",
    "        # Transform x[1] (c) to range 1-50\n",
    "        x[1] = (50 - 1) * x[1] + 1\n",
    "\n",
    "        # Return transformed x\n",
    "        return x"
   ]
  },
  {
   "cell_type": "code",
   "execution_count": 6,
   "metadata": {},
   "outputs": [],
   "source": [
    "#Example\n",
    "rbin = np.arange(0,40,1)\n",
    "c = 5.\n",
    "m = 1.\n",
    "gal = Galaxy(m, c, data_vel=1, data_err=1, data_r=rbin)\n",
    "mass_nfw = gal.mass_nfw()\n"
   ]
  },
  {
   "cell_type": "code",
   "execution_count": 7,
   "metadata": {},
   "outputs": [
    {
     "data": {
      "text/plain": [
       "Text(0, 0.5, '$M_{NFW}$')"
      ]
     },
     "execution_count": 7,
     "metadata": {},
     "output_type": "execute_result"
    },
    {
     "data": {
      "image/png": "[encoded data removed]",
      "text/plain": [
       "<Figure size 640x480 with 1 Axes>"
      ]
     },
     "metadata": {},
     "output_type": "display_data"
    }
   ],
   "source": [
    "import matplotlib.pyplot as plt\n",
    "plt.plot(rbin, mass_nfw)\n",
    "plt.xlabel('r')\n",
    "plt.ylabel('$M_{NFW}$')"
   ]
  },
  {
   "cell_type": "code",
   "execution_count": null,
   "metadata": {},
   "outputs": [],
   "source": []
  }
 ],
 "metadata": {
  "kernelspec": {
   "display_name": "codeastro",
   "language": "python",
   "name": "python3"
  },
  "language_info": {
   "codemirror_mode": {
    "name": "ipython",
    "version": 3
   },
   "file_extension": ".py",
   "mimetype": "text/x-python",
   "name": "python",
   "nbconvert_exporter": "python",
   "pygments_lexer": "ipython3",
   "version": "3.10.14"
  }
 },
 "nbformat": 4,
 "nbformat_minor": 2
}
