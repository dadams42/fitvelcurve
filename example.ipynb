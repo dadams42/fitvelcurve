{
 "cells": [
  {
   "cell_type": "code",
   "execution_count": 1,
   "metadata": {},
   "outputs": [
    {
     "name": "stdout",
     "output_type": "stream",
     "text": [
      "hello\n"
     ]
    }
   ],
   "source": [
    "print(\"hello\")"
   ]
  },
  {
   "cell_type": "code",
   "execution_count": null,
   "metadata": {},
   "outputs": [],
   "source": [
    "import numpy as np\n",
    "from numpy import pi, log\n",
    "\n",
    "\n",
    "#some constants\n",
    "h = 0.678 #Gaia 2016\n",
    "\n",
    "G = 6.67430e-11\n",
    "\n",
    "Msun = 1.98847e30\n",
    "kpc = 3.0856775814913673e19\n",
    "\n",
    "\n",
    "rhocrit = 3*(100*h/(kpc))**2/(8*np.pi*G) * kpc**3 / Msun\n",
    "\n",
    "#NFW  density\n",
    "def rhoNFW(r,rhos,rs):\n",
    "    return rhos/((r/rs)*(1.+(r/rs))**2.)\n",
    "\n",
    "\n",
    "fac = 102\n",
    "\n",
    "def delc(c):\n",
    "    return (fac/3)*c**3/(log(1+c)-c/(1+c))\n",
    "    \n",
    "#NFW density (virial mass in Msun, concentration parameter)\n",
    "def rho_nfw(r, mvir, cvir):\n",
    "    \n",
    "    rv = (mvir/((4/3) * pi * fac * rhocrit))**(1/3) \n",
    "    \n",
    "    rs = rv / cvir\n",
    "    \n",
    "    rhos = rhocrit*delc(cvir)\n",
    "    \n",
    "    return rhoNFW(r, rhos, rs)\n",
    "\n",
    "#Enclosed mass (virial mass in Msun, concentration parameter) in Msun\n",
    "def mass_nfw(r, mvir, cvir):\n",
    "    \n",
    "    rv = (mvir/((4/3) * pi * fac * rhocrit))**(1/3)\n",
    "    \n",
    "    rs = rv / cvir\n",
    "    \n",
    "    rhos = rhocrit*delc(cvir)\n",
    "    \n",
    "    return 4 * pi *  rhos * rs**3 * (log((r + rs) / rs) + rs/(r + rs) - 1) "
   ]
  },
  {
   "cell_type": "code",
   "execution_count": null,
   "metadata": {},
   "outputs": [],
   "source": []
  }
 ],
 "metadata": {
  "kernelspec": {
   "display_name": "codeastro",
   "language": "python",
   "name": "python3"
  },
  "language_info": {
   "codemirror_mode": {
    "name": "ipython",
    "version": 3
   },
   "file_extension": ".py",
   "mimetype": "text/x-python",
   "name": "python",
   "nbconvert_exporter": "python",
   "pygments_lexer": "ipython3",
   "version": "3.10.14"
  }
 },
 "nbformat": 4,
 "nbformat_minor": 2
}
