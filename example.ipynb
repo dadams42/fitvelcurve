{
 "cells": [
  {
   "cell_type": "code",
   "execution_count": 18,
   "metadata": {},
   "outputs": [],
   "source": [
    "import gal_class\n",
    "import numpy as np"
   ]
  },
  {
   "cell_type": "code",
   "execution_count": 19,
   "metadata": {},
   "outputs": [],
   "source": [
    "#Example\n",
    "rbin = np.arange(0,40,1)\n",
    "c = 5.\n",
    "m = 1.\n",
    "gal = gal_class.Galaxy(m, c, data_vel=1, data_err=1, data_r=rbin)\n",
    "mass_nfw = gal.mass_nfw()\n"
   ]
  },
  {
   "cell_type": "code",
   "execution_count": 20,
   "metadata": {},
   "outputs": [
    {
     "data": {
      "text/plain": [
       "Text(0, 0.5, '$M_{NFW}$')"
      ]
     },
     "execution_count": 20,
     "metadata": {},
     "output_type": "execute_result"
    },
    {
     "data": {
      "image/png": "[encoded data removed]",
      "text/plain": [
       "<Figure size 640x480 with 1 Axes>"
      ]
     },
     "metadata": {},
     "output_type": "display_data"
    }
   ],
   "source": [
    "import matplotlib.pyplot as plt\n",
    "plt.plot(rbin, mass_nfw)\n",
    "plt.xlabel('r')\n",
    "plt.ylabel('$M_{NFW}$')"
   ]
  },
  {
   "cell_type": "code",
   "execution_count": 21,
   "metadata": {},
   "outputs": [],
   "source": [
    "import numpy as np\n",
    "from numpy import pi, log\n",
    "\n",
    "\n",
    "#some constants\n",
    "h = 0.678 #Gaia 2016\n",
    "\n",
    "G = 6.67430e-11\n",
    "\n",
    "Msun = 1.98847e30\n",
    "kpc = 3.0856775814913673e19\n",
    "\n",
    "fac = 102\n",
    "\n",
    "rhocrit = 3*(100*h/(kpc))**2/(8*np.pi*G) * kpc**3 / Msun\n",
    "\n",
    "def delc(c):\n",
    "    return (fac/3)*c**3/(log(1+c)-c/(1+c))\n",
    "    \n",
    "\n",
    "def mass_nfw(r, mvir, cvir):\n",
    "    \n",
    "    rv = (mvir/((4/3) * pi * fac * rhocrit))**(1/3)\n",
    "    \n",
    "    rs = rv / cvir\n",
    "    \n",
    "    rhos = rhocrit*delc(cvir)\n",
    "    \n",
    "    return 4 * pi *  rhos * rs**3 * (log((r + rs) / rs) + rs/(r + rs) - 1) \n",
    "\n",
    "def velocity(x, mass, c):\n",
    "    return np.sqrt(G * Msun * mass_nfw(x, mass, c) / x/kpc) / 1e3\n",
    "    \n",
    "data_r = np.linspace(1e-1, 10, 20)\n",
    "vcen = velocity(data_r, 5e10, 15)\n",
    "verr = (velocity(data_r, 5e10*1.1, 15*1.1) - velocity(data_r, 5e10*0.9, 15*0.9))/2"
   ]
  },
  {
   "cell_type": "code",
   "execution_count": 22,
   "metadata": {},
   "outputs": [
    {
     "data": {
      "text/plain": [
       "array([1.07665904, 2.45989833, 3.07902523, 3.44951144, 3.68860436,\n",
       "       3.84739425, 3.95331819, 4.02281252, 4.06641663, 4.09121248,\n",
       "       4.10212524, 4.10267187, 4.09541698, 4.08226289, 4.06464062,\n",
       "       4.04363934, 4.02009621, 3.99465997, 3.9678368 , 3.94002385])"
      ]
     },
     "execution_count": 22,
     "metadata": {},
     "output_type": "execute_result"
    }
   ],
   "source": [
    "verr"
   ]
  },
  {
   "cell_type": "code",
   "execution_count": 23,
   "metadata": {},
   "outputs": [
    {
     "data": {
      "text/plain": [
       "array([11.69705578, 27.69937333, 35.81234559, 41.32202472, 45.39502076,\n",
       "       48.53983303, 51.03422266, 53.04926312, 54.69855028, 56.06152499,\n",
       "       57.19589563, 58.14482651, 58.94136287, 59.61128872, 60.17504459,\n",
       "       60.64905537, 61.04667398, 61.37886703, 61.65472256, 61.88183228])"
      ]
     },
     "execution_count": 23,
     "metadata": {},
     "output_type": "execute_result"
    }
   ],
   "source": [
    "vcen"
   ]
  },
  {
   "cell_type": "code",
   "execution_count": 25,
   "metadata": {},
   "outputs": [
    {
     "name": "stdout",
     "output_type": "stream",
     "text": [
      "Exception while calling loglikelihood function:\n",
      "  params: [10.08060713 34.5496759 ]\n",
      "  args: []\n",
      "  kwargs: {}\n",
      "  exception:\n"
     ]
    },
    {
     "name": "stderr",
     "output_type": "stream",
     "text": [
      "Traceback (most recent call last):\n",
      "  File \"/opt/anaconda3/envs/codeastro/lib/python3.10/site-packages/dynesty/dynesty.py\", line 913, in __call__\n",
      "    return self.func(np.asarray(x).copy(), *self.args, **self.kwargs)\n",
      "  File \"/Users/andresbanareshernandez/fitvelcurve/gal_class.py\", line 67, in log_like\n",
      "    enclosed_mass = self.mass_nfw()\n",
      "NameError: name 'mass_nfw' is not defined\n"
     ]
    },
    {
     "ename": "NameError",
     "evalue": "name 'mass_nfw' is not defined",
     "output_type": "error",
     "traceback": [
      "\u001b[0;31m---------------------------------------------------------------------------\u001b[0m",
      "\u001b[0;31mNameError\u001b[0m                                 Traceback (most recent call last)",
      "Cell \u001b[0;32mIn[25], line 3\u001b[0m\n\u001b[1;32m      1\u001b[0m test_obj \u001b[38;5;241m=\u001b[39m gal_class\u001b[38;5;241m.\u001b[39mGalaxy(\u001b[38;5;241m5e10\u001b[39m, \u001b[38;5;241m15\u001b[39m, vcen, verr, data_r)\n\u001b[0;32m----> 3\u001b[0m test_sampler \u001b[38;5;241m=\u001b[39m \u001b[43mtest_obj\u001b[49m\u001b[38;5;241;43m.\u001b[39;49m\u001b[43mrun_sampler\u001b[49m\u001b[43m(\u001b[49m\u001b[43m)\u001b[49m\n",
      "File \u001b[0;32m~/fitvelcurve/gal_class.py:95\u001b[0m, in \u001b[0;36mGalaxy.run_sampler\u001b[0;34m(self)\u001b[0m\n\u001b[1;32m     93\u001b[0m \u001b[38;5;28;01mdef\u001b[39;00m \u001b[38;5;21mrun_sampler\u001b[39m(\u001b[38;5;28mself\u001b[39m):\n\u001b[1;32m     94\u001b[0m     sampler \u001b[38;5;241m=\u001b[39m dynesty\u001b[38;5;241m.\u001b[39mDynamicNestedSampler(\u001b[38;5;28mself\u001b[39m\u001b[38;5;241m.\u001b[39mlog_like, \u001b[38;5;28mself\u001b[39m\u001b[38;5;241m.\u001b[39mptform, ndim \u001b[38;5;241m=\u001b[39m \u001b[38;5;241m2\u001b[39m, walks \u001b[38;5;241m=\u001b[39m \u001b[38;5;241m50\u001b[39m)\n\u001b[0;32m---> 95\u001b[0m     \u001b[43msampler\u001b[49m\u001b[38;5;241;43m.\u001b[39;49m\u001b[43mrun_nested\u001b[49m\u001b[43m(\u001b[49m\u001b[43m)\u001b[49m\n\u001b[1;32m     96\u001b[0m     \u001b[38;5;28;01mreturn\u001b[39;00m sampler\n",
      "File \u001b[0;32m/opt/anaconda3/envs/codeastro/lib/python3.10/site-packages/dynesty/dynamicsampler.py:2055\u001b[0m, in \u001b[0;36mDynamicSampler.run_nested\u001b[0;34m(self, nlive_init, maxiter_init, maxcall_init, dlogz_init, logl_max_init, n_effective_init, nlive_batch, wt_function, wt_kwargs, maxiter_batch, maxcall_batch, maxiter, maxcall, maxbatch, n_effective, stop_function, stop_kwargs, use_stop, save_bounds, print_progress, print_func, live_points, resume, checkpoint_file, checkpoint_every)\u001b[0m\n\u001b[1;32m   2053\u001b[0m \u001b[38;5;28;01mtry\u001b[39;00m:\n\u001b[1;32m   2054\u001b[0m     \u001b[38;5;28;01mif\u001b[39;00m \u001b[38;5;129;01mnot\u001b[39;00m \u001b[38;5;28mself\u001b[39m\u001b[38;5;241m.\u001b[39mbase:\n\u001b[0;32m-> 2055\u001b[0m         \u001b[38;5;28;01mfor\u001b[39;00m results \u001b[38;5;129;01min\u001b[39;00m \u001b[38;5;28mself\u001b[39m\u001b[38;5;241m.\u001b[39msample_initial(\n\u001b[1;32m   2056\u001b[0m                 nlive\u001b[38;5;241m=\u001b[39mnlive_init,\n\u001b[1;32m   2057\u001b[0m                 dlogz\u001b[38;5;241m=\u001b[39mdlogz_init,\n\u001b[1;32m   2058\u001b[0m                 maxcall\u001b[38;5;241m=\u001b[39mmaxcall_init,\n\u001b[1;32m   2059\u001b[0m                 maxiter\u001b[38;5;241m=\u001b[39mmaxiter_init,\n\u001b[1;32m   2060\u001b[0m                 logl_max\u001b[38;5;241m=\u001b[39mlogl_max_init,\n\u001b[1;32m   2061\u001b[0m                 live_points\u001b[38;5;241m=\u001b[39mlive_points,\n\u001b[1;32m   2062\u001b[0m                 n_effective\u001b[38;5;241m=\u001b[39mn_effective_init,\n\u001b[1;32m   2063\u001b[0m                 resume\u001b[38;5;241m=\u001b[39mresume,\n\u001b[1;32m   2064\u001b[0m                 save_samples\u001b[38;5;241m=\u001b[39m\u001b[38;5;28;01mTrue\u001b[39;00m):\n\u001b[1;32m   2065\u001b[0m             \u001b[38;5;28;01mif\u001b[39;00m resume:\n\u001b[1;32m   2066\u001b[0m                 resume \u001b[38;5;241m=\u001b[39m \u001b[38;5;28;01mFalse\u001b[39;00m\n",
      "File \u001b[0;32m/opt/anaconda3/envs/codeastro/lib/python3.10/site-packages/dynesty/dynamicsampler.py:1289\u001b[0m, in \u001b[0;36mDynamicSampler.sample_initial\u001b[0;34m(self, nlive, update_interval, first_update, maxiter, maxcall, logl_max, dlogz, n_effective, live_points, save_samples, resume)\u001b[0m\n\u001b[1;32m   1284\u001b[0m \u001b[38;5;28;01mif\u001b[39;00m \u001b[38;5;129;01mnot\u001b[39;00m resume:\n\u001b[1;32m   1285\u001b[0m     \u001b[38;5;66;03m# Reset saved results to avoid any possible conflicts.\u001b[39;00m\n\u001b[1;32m   1286\u001b[0m     \u001b[38;5;28mself\u001b[39m\u001b[38;5;241m.\u001b[39mreset()\n\u001b[1;32m   1288\u001b[0m     (\u001b[38;5;28mself\u001b[39m\u001b[38;5;241m.\u001b[39mlive_u, \u001b[38;5;28mself\u001b[39m\u001b[38;5;241m.\u001b[39mlive_v, \u001b[38;5;28mself\u001b[39m\u001b[38;5;241m.\u001b[39mlive_logl,\n\u001b[0;32m-> 1289\u001b[0m      blobs), logvol_init, init_ncalls \u001b[38;5;241m=\u001b[39m \u001b[43m_initialize_live_points\u001b[49m\u001b[43m(\u001b[49m\n\u001b[1;32m   1290\u001b[0m \u001b[43m         \u001b[49m\u001b[43mlive_points\u001b[49m\u001b[43m,\u001b[49m\n\u001b[1;32m   1291\u001b[0m \u001b[43m         \u001b[49m\u001b[38;5;28;43mself\u001b[39;49m\u001b[38;5;241;43m.\u001b[39;49m\u001b[43mprior_transform\u001b[49m\u001b[43m,\u001b[49m\n\u001b[1;32m   1292\u001b[0m \u001b[43m         \u001b[49m\u001b[38;5;28;43mself\u001b[39;49m\u001b[38;5;241;43m.\u001b[39;49m\u001b[43mloglikelihood\u001b[49m\u001b[43m,\u001b[49m\n\u001b[1;32m   1293\u001b[0m \u001b[43m         \u001b[49m\u001b[38;5;28;43mself\u001b[39;49m\u001b[38;5;241;43m.\u001b[39;49m\u001b[43mM\u001b[49m\u001b[43m,\u001b[49m\n\u001b[1;32m   1294\u001b[0m \u001b[43m         \u001b[49m\u001b[43mnlive\u001b[49m\u001b[38;5;241;43m=\u001b[39;49m\u001b[43mnlive\u001b[49m\u001b[43m,\u001b[49m\n\u001b[1;32m   1295\u001b[0m \u001b[43m         \u001b[49m\u001b[43mndim\u001b[49m\u001b[38;5;241;43m=\u001b[39;49m\u001b[38;5;28;43mself\u001b[39;49m\u001b[38;5;241;43m.\u001b[39;49m\u001b[43mndim\u001b[49m\u001b[43m,\u001b[49m\n\u001b[1;32m   1296\u001b[0m \u001b[43m         \u001b[49m\u001b[43mrstate\u001b[49m\u001b[38;5;241;43m=\u001b[39;49m\u001b[38;5;28;43mself\u001b[39;49m\u001b[38;5;241;43m.\u001b[39;49m\u001b[43mrstate\u001b[49m\u001b[43m,\u001b[49m\n\u001b[1;32m   1297\u001b[0m \u001b[43m         \u001b[49m\u001b[43mblob\u001b[49m\u001b[38;5;241;43m=\u001b[39;49m\u001b[38;5;28;43mself\u001b[39;49m\u001b[38;5;241;43m.\u001b[39;49m\u001b[43mblob\u001b[49m\u001b[43m,\u001b[49m\n\u001b[1;32m   1298\u001b[0m \u001b[43m         \u001b[49m\u001b[43muse_pool_ptform\u001b[49m\u001b[38;5;241;43m=\u001b[39;49m\u001b[38;5;28;43mself\u001b[39;49m\u001b[38;5;241;43m.\u001b[39;49m\u001b[43muse_pool_ptform\u001b[49m\u001b[43m)\u001b[49m\n\u001b[1;32m   1299\u001b[0m     \u001b[38;5;28;01mif\u001b[39;00m \u001b[38;5;28mself\u001b[39m\u001b[38;5;241m.\u001b[39mblob:\n\u001b[1;32m   1300\u001b[0m         \u001b[38;5;28mself\u001b[39m\u001b[38;5;241m.\u001b[39mlive_blobs \u001b[38;5;241m=\u001b[39m blobs\n",
      "File \u001b[0;32m/opt/anaconda3/envs/codeastro/lib/python3.10/site-packages/dynesty/dynamicsampler.py:438\u001b[0m, in \u001b[0;36m_initialize_live_points\u001b[0;34m(live_points, prior_transform, loglikelihood, M, nlive, ndim, rstate, blob, use_pool_ptform)\u001b[0m\n\u001b[1;32m    436\u001b[0m     cur_live_v \u001b[38;5;241m=\u001b[39m \u001b[38;5;28mmap\u001b[39m(prior_transform, np\u001b[38;5;241m.\u001b[39masarray(cur_live_u))\n\u001b[1;32m    437\u001b[0m cur_live_v \u001b[38;5;241m=\u001b[39m np\u001b[38;5;241m.\u001b[39marray(\u001b[38;5;28mlist\u001b[39m(cur_live_v))\n\u001b[0;32m--> 438\u001b[0m cur_live_logl \u001b[38;5;241m=\u001b[39m \u001b[43mloglikelihood\u001b[49m\u001b[38;5;241;43m.\u001b[39;49m\u001b[43mmap\u001b[49m\u001b[43m(\u001b[49m\u001b[43mnp\u001b[49m\u001b[38;5;241;43m.\u001b[39;49m\u001b[43masarray\u001b[49m\u001b[43m(\u001b[49m\u001b[43mcur_live_v\u001b[49m\u001b[43m)\u001b[49m\u001b[43m)\u001b[49m\n\u001b[1;32m    439\u001b[0m \u001b[38;5;28;01mif\u001b[39;00m blob:\n\u001b[1;32m    440\u001b[0m     cur_live_blobs \u001b[38;5;241m=\u001b[39m np\u001b[38;5;241m.\u001b[39marray([_\u001b[38;5;241m.\u001b[39mblob \u001b[38;5;28;01mfor\u001b[39;00m _ \u001b[38;5;129;01min\u001b[39;00m cur_live_logl])\n",
      "File \u001b[0;32m/opt/anaconda3/envs/codeastro/lib/python3.10/site-packages/dynesty/utils.py:171\u001b[0m, in \u001b[0;36mLogLikelihood.map\u001b[0;34m(self, pars)\u001b[0m\n\u001b[1;32m    162\u001b[0m \u001b[38;5;250m\u001b[39m\u001b[38;5;124;03m\"\"\"\u001b[39;00m\n\u001b[1;32m    163\u001b[0m \u001b[38;5;124;03mEvaluate the likelihood function on the list of vectors\u001b[39;00m\n\u001b[1;32m    164\u001b[0m \u001b[38;5;124;03mThe pool is used if it was provided when the object was created\u001b[39;00m\n\u001b[0;32m   (...)\u001b[0m\n\u001b[1;32m    168\u001b[0m \u001b[38;5;124;03mret: The list of LoglOutput objects\u001b[39;00m\n\u001b[1;32m    169\u001b[0m \u001b[38;5;124;03m\"\"\"\u001b[39;00m\n\u001b[1;32m    170\u001b[0m \u001b[38;5;28;01mif\u001b[39;00m \u001b[38;5;28mself\u001b[39m\u001b[38;5;241m.\u001b[39mpool \u001b[38;5;129;01mis\u001b[39;00m \u001b[38;5;28;01mNone\u001b[39;00m:\n\u001b[0;32m--> 171\u001b[0m     ret \u001b[38;5;241m=\u001b[39m \u001b[38;5;28mlist\u001b[39m([\n\u001b[1;32m    172\u001b[0m         LoglOutput(_, \u001b[38;5;28mself\u001b[39m\u001b[38;5;241m.\u001b[39mblob) \u001b[38;5;28;01mfor\u001b[39;00m _ \u001b[38;5;129;01min\u001b[39;00m \u001b[38;5;28mmap\u001b[39m(\u001b[38;5;28mself\u001b[39m\u001b[38;5;241m.\u001b[39mloglikelihood, pars)\n\u001b[1;32m    173\u001b[0m     ])\n\u001b[1;32m    174\u001b[0m \u001b[38;5;28;01melse\u001b[39;00m:\n\u001b[1;32m    175\u001b[0m     ret \u001b[38;5;241m=\u001b[39m [\n\u001b[1;32m    176\u001b[0m         LoglOutput(_, \u001b[38;5;28mself\u001b[39m\u001b[38;5;241m.\u001b[39mblob)\n\u001b[1;32m    177\u001b[0m         \u001b[38;5;28;01mfor\u001b[39;00m _ \u001b[38;5;129;01min\u001b[39;00m \u001b[38;5;28mself\u001b[39m\u001b[38;5;241m.\u001b[39mpool\u001b[38;5;241m.\u001b[39mmap(\u001b[38;5;28mself\u001b[39m\u001b[38;5;241m.\u001b[39mloglikelihood, pars)\n\u001b[1;32m    178\u001b[0m     ]\n",
      "File \u001b[0;32m/opt/anaconda3/envs/codeastro/lib/python3.10/site-packages/dynesty/utils.py:171\u001b[0m, in \u001b[0;36m<listcomp>\u001b[0;34m(.0)\u001b[0m\n\u001b[1;32m    162\u001b[0m \u001b[38;5;250m\u001b[39m\u001b[38;5;124;03m\"\"\"\u001b[39;00m\n\u001b[1;32m    163\u001b[0m \u001b[38;5;124;03mEvaluate the likelihood function on the list of vectors\u001b[39;00m\n\u001b[1;32m    164\u001b[0m \u001b[38;5;124;03mThe pool is used if it was provided when the object was created\u001b[39;00m\n\u001b[0;32m   (...)\u001b[0m\n\u001b[1;32m    168\u001b[0m \u001b[38;5;124;03mret: The list of LoglOutput objects\u001b[39;00m\n\u001b[1;32m    169\u001b[0m \u001b[38;5;124;03m\"\"\"\u001b[39;00m\n\u001b[1;32m    170\u001b[0m \u001b[38;5;28;01mif\u001b[39;00m \u001b[38;5;28mself\u001b[39m\u001b[38;5;241m.\u001b[39mpool \u001b[38;5;129;01mis\u001b[39;00m \u001b[38;5;28;01mNone\u001b[39;00m:\n\u001b[0;32m--> 171\u001b[0m     ret \u001b[38;5;241m=\u001b[39m \u001b[38;5;28mlist\u001b[39m([\n\u001b[1;32m    172\u001b[0m         LoglOutput(_, \u001b[38;5;28mself\u001b[39m\u001b[38;5;241m.\u001b[39mblob) \u001b[38;5;28;01mfor\u001b[39;00m _ \u001b[38;5;129;01min\u001b[39;00m \u001b[38;5;28mmap\u001b[39m(\u001b[38;5;28mself\u001b[39m\u001b[38;5;241m.\u001b[39mloglikelihood, pars)\n\u001b[1;32m    173\u001b[0m     ])\n\u001b[1;32m    174\u001b[0m \u001b[38;5;28;01melse\u001b[39;00m:\n\u001b[1;32m    175\u001b[0m     ret \u001b[38;5;241m=\u001b[39m [\n\u001b[1;32m    176\u001b[0m         LoglOutput(_, \u001b[38;5;28mself\u001b[39m\u001b[38;5;241m.\u001b[39mblob)\n\u001b[1;32m    177\u001b[0m         \u001b[38;5;28;01mfor\u001b[39;00m _ \u001b[38;5;129;01min\u001b[39;00m \u001b[38;5;28mself\u001b[39m\u001b[38;5;241m.\u001b[39mpool\u001b[38;5;241m.\u001b[39mmap(\u001b[38;5;28mself\u001b[39m\u001b[38;5;241m.\u001b[39mloglikelihood, pars)\n\u001b[1;32m    178\u001b[0m     ]\n",
      "File \u001b[0;32m/opt/anaconda3/envs/codeastro/lib/python3.10/site-packages/dynesty/dynesty.py:913\u001b[0m, in \u001b[0;36m_function_wrapper.__call__\u001b[0;34m(self, x)\u001b[0m\n\u001b[1;32m    905\u001b[0m \u001b[38;5;28;01mdef\u001b[39;00m \u001b[38;5;21m__call__\u001b[39m(\u001b[38;5;28mself\u001b[39m, x):\n\u001b[1;32m    906\u001b[0m     \u001b[38;5;28;01mtry\u001b[39;00m:\n\u001b[1;32m    907\u001b[0m         \u001b[38;5;66;03m# IMPORTANT\u001b[39;00m\n\u001b[1;32m    908\u001b[0m         \u001b[38;5;66;03m# Here we make a copy if the input vector just to ensure\u001b[39;00m\n\u001b[0;32m   (...)\u001b[0m\n\u001b[1;32m    911\u001b[0m         \u001b[38;5;66;03m# This comes at performance cost, but it's worthwhile\u001b[39;00m\n\u001b[1;32m    912\u001b[0m         \u001b[38;5;66;03m# as it may lead to hard to diagnose weird behaviour\u001b[39;00m\n\u001b[0;32m--> 913\u001b[0m         \u001b[38;5;28;01mreturn\u001b[39;00m \u001b[38;5;28;43mself\u001b[39;49m\u001b[38;5;241;43m.\u001b[39;49m\u001b[43mfunc\u001b[49m\u001b[43m(\u001b[49m\u001b[43mnp\u001b[49m\u001b[38;5;241;43m.\u001b[39;49m\u001b[43masarray\u001b[49m\u001b[43m(\u001b[49m\u001b[43mx\u001b[49m\u001b[43m)\u001b[49m\u001b[38;5;241;43m.\u001b[39;49m\u001b[43mcopy\u001b[49m\u001b[43m(\u001b[49m\u001b[43m)\u001b[49m\u001b[43m,\u001b[49m\u001b[43m \u001b[49m\u001b[38;5;241;43m*\u001b[39;49m\u001b[38;5;28;43mself\u001b[39;49m\u001b[38;5;241;43m.\u001b[39;49m\u001b[43margs\u001b[49m\u001b[43m,\u001b[49m\u001b[43m \u001b[49m\u001b[38;5;241;43m*\u001b[39;49m\u001b[38;5;241;43m*\u001b[39;49m\u001b[38;5;28;43mself\u001b[39;49m\u001b[38;5;241;43m.\u001b[39;49m\u001b[43mkwargs\u001b[49m\u001b[43m)\u001b[49m\n\u001b[1;32m    914\u001b[0m     \u001b[38;5;28;01mexcept\u001b[39;00m:  \u001b[38;5;66;03m# noqa\u001b[39;00m\n\u001b[1;32m    915\u001b[0m         \u001b[38;5;28mprint\u001b[39m(\u001b[38;5;124mf\u001b[39m\u001b[38;5;124m\"\u001b[39m\u001b[38;5;124mException while calling \u001b[39m\u001b[38;5;132;01m{\u001b[39;00m\u001b[38;5;28mself\u001b[39m\u001b[38;5;241m.\u001b[39mname\u001b[38;5;132;01m}\u001b[39;00m\u001b[38;5;124m function:\u001b[39m\u001b[38;5;124m\"\u001b[39m)\n",
      "File \u001b[0;32m~/fitvelcurve/gal_class.py:67\u001b[0m, in \u001b[0;36mGalaxy.log_like\u001b[0;34m(self, x)\u001b[0m\n\u001b[1;32m     64\u001b[0m \u001b[38;5;28mself\u001b[39m\u001b[38;5;241m.\u001b[39mcvir \u001b[38;5;241m=\u001b[39m c\n\u001b[1;32m     66\u001b[0m \u001b[38;5;66;03m# Calculate enclosed mass array with NFW profile\u001b[39;00m\n\u001b[0;32m---> 67\u001b[0m enclosed_mass \u001b[38;5;241m=\u001b[39m \u001b[43mmass_nfw\u001b[49m(\u001b[38;5;28mself\u001b[39m\u001b[38;5;241m.\u001b[39mdata_r, \u001b[38;5;28mself\u001b[39m\u001b[38;5;241m.\u001b[39mmvir, \u001b[38;5;28mself\u001b[39m\u001b[38;5;241m.\u001b[39mcvir)\n\u001b[1;32m     68\u001b[0m \u001b[38;5;66;03m# Calculate predicted velocity from v^2 = GM/r\u001b[39;00m\n\u001b[1;32m     69\u001b[0m pred_vel \u001b[38;5;241m=\u001b[39m np\u001b[38;5;241m.\u001b[39msqrt(G \u001b[38;5;241m*\u001b[39m enclosed_mass \u001b[38;5;241m/\u001b[39m \u001b[38;5;28mself\u001b[39m\u001b[38;5;241m.\u001b[39mdata_err)\n",
      "\u001b[0;31mNameError\u001b[0m: name 'mass_nfw' is not defined"
     ]
    }
   ],
   "source": [
    "test_obj = gal_class.Galaxy(5e10, 15, vcen, verr, data_r)\n",
    "\n",
    "test_sampler = test_obj.run_sampler()"
   ]
  },
  {
   "cell_type": "code",
   "execution_count": null,
   "metadata": {},
   "outputs": [],
   "source": []
  }
 ],
 "metadata": {
  "kernelspec": {
   "display_name": "codeastro",
   "language": "python",
   "name": "python3"
  },
  "language_info": {
   "codemirror_mode": {
    "name": "ipython",
    "version": 3
   },
   "file_extension": ".py",
   "mimetype": "text/x-python",
   "name": "python",
   "nbconvert_exporter": "python",
   "pygments_lexer": "ipython3",
   "version": "3.10.14"
  }
 },
 "nbformat": 4,
 "nbformat_minor": 2
}
